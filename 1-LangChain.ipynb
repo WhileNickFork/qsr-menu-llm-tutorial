{
  "cells": [
    {
      "cell_type": "markdown",
      "metadata": {},
      "source": [
        "# QSR Menu Chatbot Demo\n",
        "\n",
        "Welcome to this tutorial! We'll explore how to use generative AI, specifically large language models (LLMs), to interact with a Quick Service Restaurant (QSR) menu stored in a SQL database. Our goal is to enable users to ask natural language questions about the menu (e.g., \"What vegetarian options are there?\", \"What's the cheapest burger?\") and receive informative answers. We'll use LangChain to simplify the connection between a Large Language Model (LLM) and a SQL database containing menu items.\n",
        "\n",
        "Prerequisites:\n",
        "- Basic knowledge of Python and LLMs\n",
        "- API access to an OpenAI-compatible LLM (examples provided for locally hosted Ollama and NVIDIA-hosted models)\n",
        "\n",
        "In a follow-up demo, we'll explore a more customizable setup using LangGraph."
      ]
    },
    {
      "cell_type": "markdown",
      "metadata": {},
      "source": [
        "## Install Dependencies"
      ]
    },
    {
      "cell_type": "code",
      "execution_count": 2,
      "metadata": {},
      "outputs": [],
      "source": [
        "try:\n",
        "    import sqlalchemy\n",
        "except ImportError:\n",
        "    %pip install sqlalchemy -q\n",
        "    import sqlalchemy\n",
        "\n",
        "# LangChain-related packages\n",
        "try:\n",
        "    from langchain_openai import ChatOpenAI\n",
        "except ImportError:\n",
        "    %pip install langchain-openai -q\n",
        "    from langchain_openai import ChatOpenAI\n",
        "\n",
        "try:\n",
        "    from langchain_community.tools.sql_database.tool import SQLDatabase\n",
        "    from langchain.agents.agent_toolkits import SQLDatabaseToolkit\n",
        "    from langchain.agents import create_sql_agent, AgentType\n",
        "except ImportError:\n",
        "    %pip install langchain-community -q\n",
        "    from langchain_community.tools.sql_database.tool import SQLDatabase\n",
        "    from langchain.agents.agent_toolkits import SQLDatabaseToolkit\n",
        "    from langchain.agents import create_sql_agent, AgentType"
      ]
    },
    {
      "cell_type": "markdown",
      "metadata": {},
      "source": [
        "## Setup Example Menu Database\n",
        "\n",
        "Now that we have our libraries, let's create the data source our agent will interact with: a SQLite database representing a QSR menu.\n",
        "\n",
        "The code cell below uses a helper function `build_qsr_menu_database` (presumably located in a `utils` directory) which:\n",
        "1.  Connects to (or creates) a SQLite database file (e.g., `qsr_menu.db`).\n",
        "2.  Defines the necessary tables (like `menu`, `nutrition_facts`) using SQLAlchemy's ORM.\n",
        "3.  Populates these tables with sample menu data loaded from a file (e.g., a JSON file in a `data` directory).\n",
        "4.  Returns a SQLAlchemy `Engine` object, which represents the connection pool to our database.\n",
        "\n",
        "After creating the database engine, we wrap it in LangChain's `SQLDatabase` class. This is a crucial step because the `SQLDatabase` object provides convenient methods for our agent's tools, such as:\n",
        "* `get_table_info`: To retrieve the schema (column names, types, keys) of specified tables.\n",
        "* `get_usable_table_names`: To list the available tables.\n",
        "* `run` or `run_no_throw`: To execute SQL queries against the database.\n",
        "\n",
        "This abstraction simplifies how the agent interacts with the database, allowing it to focus on generating the *correct* SQL rather than managing database connections."
      ]
    },
    {
      "cell_type": "code",
      "execution_count": 4,
      "metadata": {},
      "outputs": [
        {
          "name": "stdout",
          "output_type": "stream",
          "text": [
            "Database created and populated from ./data/menu.json\n"
          ]
        }
      ],
      "source": [
        "from utils.qsr_db_builder import build_qsr_menu_database\n",
        "\n",
        "engine = build_qsr_menu_database(\"./data/menu.json\", \"sqlite:///./data/qsr_menu.db\")\n",
        "\n",
        "# SQLDatabase object for LangChain\n",
        "db = SQLDatabase(engine)"
      ]
    },
    {
      "cell_type": "markdown",
      "metadata": {},
      "source": [
        "## Initialize LangChain Agent\n",
        "Now, we'll connect to a local Ollama LLM and initialize an agent that can intelligently query the QSR menu database. This example assumes an Ollama server is currently hosted at IP address 192.168.1.23 and it already has the following model installed: llama3.3:70b-instruct-q3_K_S.\n",
        "\n",
        "Here we are using a community-developed SQL agent that is part of the LangChain community library. This is an easy way to get up and running with a SQL agent with minimal work."
      ]
    },
    {
      "cell_type": "code",
      "execution_count": 5,
      "metadata": {},
      "outputs": [],
      "source": [
        "# Use the line below to use the Ollama model running at ip address 192.168.1.23. Change this to your own Ollama server IP address.\n",
        "llm = ChatOpenAI(base_url=\"http://192.168.1.23:11434/v1\", model=\"llama3.3:70b-instruct-q3_K_S\", api_key=\"ollama\", temperature=0.0)\n",
        "\n",
        "# Setup SQL toolkit and LangChain agent\n",
        "toolkit = SQLDatabaseToolkit(db=db, llm=llm)\n",
        "\n",
        "agent_executor = create_sql_agent(\n",
        "    llm=llm,\n",
        "    toolkit=toolkit,\n",
        "    agent_type=AgentType.ZERO_SHOT_REACT_DESCRIPTION,\n",
        "    verbose=True\n",
        ")"
      ]
    },
    {
      "cell_type": "markdown",
      "metadata": {},
      "source": [
        "## Experiment with Queries\n",
        "Now try sending queries to your SQL agent. Try differnt levels of prompt complexity to test the limits of your LLM."
      ]
    },
    {
      "cell_type": "code",
      "execution_count": 8,
      "metadata": {},
      "outputs": [
        {
          "name": "stdout",
          "output_type": "stream",
          "text": [
            "\n",
            "\n",
            "\u001b[1m> Entering new SQL Agent Executor chain...\u001b[0m\n",
            "\u001b[32;1m\u001b[1;3mAction: sql_db_list_tables\n",
            "Action Input: \u001b[0m\u001b[38;5;200m\u001b[1;3mmenu, nutrition_facts\u001b[0m\u001b[32;1m\u001b[1;3mI have the list of tables in the database, which are \"menu\" and \"nutrition_facts\". Now, I should query the schema of these two tables to see what columns they contain.\n",
            "\n",
            "Action: sql_db_schema\n",
            "Action Input: menu, nutrition_facts\u001b[0m\u001b[33;1m\u001b[1;3m\n",
            "CREATE TABLE menu (\n",
            "\tid INTEGER NOT NULL, \n",
            "\tname VARCHAR NOT NULL, \n",
            "\tcategory VARCHAR NOT NULL, \n",
            "\tprice FLOAT NOT NULL, \n",
            "\tingredients VARCHAR, \n",
            "\tPRIMARY KEY (id)\n",
            ")\n",
            "\n",
            "/*\n",
            "3 rows from menu table:\n",
            "id\tname\tcategory\tprice\tingredients\n",
            "1\tClassic Cheeseburger\tEntree\t5.99\tBeef patty, cheese, lettuce, tomato, pickles, bun, condiments\n",
            "2\tBacon Cheeseburger\tEntree\t6.99\tBeef patty, bacon, cheese, lettuce, tomato, onions, bun, condiments\n",
            "3\tDouble Deluxe Burger\tEntree\t7.99\tTwo beef patties, double cheese, lettuce, tomato, pickles, onions, special sauce, bun\n",
            "*/\n",
            "\n",
            "\n",
            "CREATE TABLE nutrition_facts (\n",
            "\titem_id INTEGER NOT NULL, \n",
            "\tcalories INTEGER, \n",
            "\tprotein_g FLOAT, \n",
            "\tfat_g FLOAT, \n",
            "\tcarbs_g FLOAT, \n",
            "\tsodium_mg INTEGER, \n",
            "\tPRIMARY KEY (item_id), \n",
            "\tFOREIGN KEY(item_id) REFERENCES menu (id)\n",
            ")\n",
            "\n",
            "/*\n",
            "3 rows from nutrition_facts table:\n",
            "item_id\tcalories\tprotein_g\tfat_g\tcarbs_g\tsodium_mg\n",
            "1\t550\t25.0\t30.0\t45.0\t800\n",
            "2\t650\t30.0\t40.0\t50.0\t900\n",
            "3\t800\t35.0\t45.0\t60.0\t1100\n",
            "*/\u001b[0m\u001b[32;1m\u001b[1;3mI have the schema of the \"menu\" and \"nutrition_facts\" tables. Now, I should think about how to construct a query to find the healthiest meal on the menu.\n",
            "\n",
            "To determine the healthiest meal, I can consider factors such as calories, fat, carbs, and sodium. A meal with lower values in these categories could be considered healthier.\n",
            "\n",
            "Action: sql_db_query_checker\n",
            "Action Input: SELECT m.name, n.calories, n.fat_g, n.carbs_g, n.sodium_mg FROM menu m JOIN nutrition_facts n ON m.id = n.item_id WHERE m.category = 'Entree' ORDER BY n.calories ASC LIMIT 10\u001b[0m\u001b[36;1m\u001b[1;3m```sql\n",
            "SELECT m.name, n.calories, n.fat_g, n.carbs_g, n.sodium_mg \n",
            "FROM menu m \n",
            "JOIN nutrition_facts n ON m.id = n.item_id \n",
            "WHERE m.category = 'Entree' \n",
            "ORDER BY n.calories ASC \n",
            "LIMIT 10;\n",
            "```\u001b[0m\u001b[32;1m\u001b[1;3mThe query seems correct. Now, I should execute this query to get the results.\n",
            "\n",
            "Action: sql_db_query\n",
            "Action Input: SELECT m.name, n.calories, n.fat_g, n.carbs_g, n.sodium_mg FROM menu m JOIN nutrition_facts n ON m.id = n.item_id WHERE m.category = 'Entree' ORDER BY n.calories ASC LIMIT 10\u001b[0m\u001b[36;1m\u001b[1;3m[('Grilled Chicken Sandwich', 450, 15.0, 40.0, 700), ('Veggie Burger', 480, 18.0, 50.0, 650), ('Spicy Chicken Sandwich', 500, 25.0, 45.0, 850), ('Fish Sandwich', 520, 28.0, 47.0, 780), ('Classic Cheeseburger', 550, 30.0, 45.0, 800), ('Bacon Cheeseburger', 650, 40.0, 50.0, 900), ('Double Deluxe Burger', 800, 45.0, 60.0, 1100)]\u001b[0m\u001b[32;1m\u001b[1;3mI now know the final answer\n",
            "\n",
            "The healthiest meal on the menu is the 'Grilled Chicken Sandwich' with 450 calories, 15.0g of fat, 40.0g of carbs, and 700mg of sodium.\n",
            "\n",
            "Final Answer: Grilled Chicken Sandwich\u001b[0m\n",
            "\n",
            "\u001b[1m> Finished chain.\u001b[0m\n",
            "Grilled Chicken Sandwich\n"
          ]
        }
      ],
      "source": [
        "# Natural language query example\n",
        "input_data = {\"input\": \"What is the healthiest meal (not Drink) on the menu?\"}\n",
        "response_dict = agent_executor.invoke(input_data)\n",
        "\n",
        "# Print the response\n",
        "print(response_dict.get('output', response_dict))"
      ]
    },
    {
      "cell_type": "markdown",
      "metadata": {},
      "source": [
        "## Use NVIDIA-hosted Llama 3.3 70b Model\n",
        "Now, let's demonstrate querying the same database using a powerful NVIDIA-hosted model (Llama 3.3 70b). You'll need an API key to proceed."
      ]
    },
    {
      "cell_type": "code",
      "execution_count": null,
      "metadata": {},
      "outputs": [],
      "source": [
        "# Enter your NVIDIA API key\n",
        "api_key = \"your-api-key-here\"\n",
        "\n",
        "# Connect to NVIDIA-hosted Llama 3.3 model\n",
        "llm = ChatOpenAI(base_url=\"https://integrate.api.nvidia.com/v1\", model=\"meta/llama-3.3-70b-instruct\", api_key=api_key)\n",
        "\n",
        "# Re-initialize SQL toolkit and agent for NVIDIA model\n",
        "toolkit = SQLDatabaseToolkit(db=db, llm=llm)\n",
        "\n",
        "agent_executor = create_sql_agent(\n",
        "    llm=llm,\n",
        "    toolkit=toolkit,\n",
        "    agent_type=AgentType.ZERO_SHOT_REACT_DESCRIPTION,\n",
        "    verbose=True\n",
        ")"
      ]
    },
    {
      "cell_type": "markdown",
      "metadata": {},
      "source": [
        "Run a query to compare the NVIDIA model's response:"
      ]
    },
    {
      "cell_type": "code",
      "execution_count": null,
      "metadata": {},
      "outputs": [],
      "source": [
        "# Query using NVIDIA-hosted LLM\n",
        "response = agent_executor.run(\"What is the healthiest meal (not Drink) on the menu?\")\n",
        "print(response)"
      ]
    }
  ],
  "metadata": {
    "kernelspec": {
      "display_name": ".venv",
      "language": "python",
      "name": "python3"
    },
    "language_info": {
      "codemirror_mode": {
        "name": "ipython",
        "version": 3
      },
      "file_extension": ".py",
      "mimetype": "text/x-python",
      "name": "python",
      "nbconvert_exporter": "python",
      "pygments_lexer": "ipython3",
      "version": "3.11.9"
    }
  },
  "nbformat": 4,
  "nbformat_minor": 2
}
